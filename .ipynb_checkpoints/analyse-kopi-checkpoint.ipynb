{
 "cells": [
  {
   "cell_type": "code",
   "execution_count": 1,
   "metadata": {},
   "outputs": [],
   "source": [
    "import polars as pl"
   ]
  },
  {
   "cell_type": "code",
   "execution_count": 2,
   "metadata": {},
   "outputs": [],
   "source": [
    "import redis"
   ]
  },
  {
   "cell_type": "code",
   "execution_count": 3,
   "metadata": {},
   "outputs": [],
   "source": [
    "import time"
   ]
  },
  {
   "cell_type": "code",
   "execution_count": 4,
   "metadata": {},
   "outputs": [],
   "source": [
    "df = pl.scan_parquet(\"kjoretoyinfo_preppet-kopi.parquet\")"
   ]
  },
  {
   "cell_type": "code",
   "execution_count": 5,
   "metadata": {},
   "outputs": [],
   "source": [
    "df = pl.read_parquet(\"kjoretoyinfo_preppet-kopi.parquet\")"
   ]
  },
  {
   "cell_type": "code",
   "execution_count": 6,
   "metadata": {},
   "outputs": [
    {
     "data": {
      "text/html": [
       "<div><style>\n",
       ".dataframe > thead > tr,\n",
       ".dataframe > tbody > tr {\n",
       "  text-align: right;\n",
       "  white-space: pre-wrap;\n",
       "}\n",
       "</style>\n",
       "<small>shape: (554_219, 9)</small><table border=\"1\" class=\"dataframe\"><thead><tr><th>tekn_reg_f_g_n</th><th>tekn_reg_eier_dato</th><th>tekn_aksler_drift</th><th>tekn_merke</th><th>tekn_modell</th><th>tekn_drivstoff</th><th>tekn_neste_pkk</th><th>tekn_farge</th><th>elbil</th></tr><tr><td>datetime[μs]</td><td>datetime[μs]</td><td>i64</td><td>i64</td><td>str</td><td>str</td><td>datetime[μs]</td><td>str</td><td>bool</td></tr></thead><tbody><tr><td>2021-10-13 00:00:00</td><td>2021-10-13 00:00:00</td><td>2</td><td>3900</td><td>&quot;VITO&quot;</td><td>&quot;2&quot;</td><td>2025-10-13 00:00:00</td><td>&quot;05&quot;</td><td>false</td></tr><tr><td>2020-01-29 00:00:00</td><td>2020-01-29 00:00:00</td><td>2</td><td>5750</td><td>&quot;CADDY&quot;</td><td>&quot;2&quot;</td><td>2026-01-29 00:00:00</td><td>&quot;06&quot;</td><td>false</td></tr><tr><td>2023-11-29 00:00:00</td><td>2023-11-29 00:00:00</td><td>1</td><td>2600</td><td>&quot;Mustang Mach-E…</td><td>&quot;5&quot;</td><td>2027-11-29 00:00:00</td><td>&quot;06&quot;</td><td>true</td></tr><tr><td>2020-01-27 00:00:00</td><td>2020-01-27 00:00:00</td><td>2</td><td>5750</td><td>&quot;CADDY&quot;</td><td>&quot;2&quot;</td><td>2024-01-27 00:00:00</td><td>&quot;01&quot;</td><td>false</td></tr><tr><td>2020-05-19 00:00:00</td><td>2020-05-19 00:00:00</td><td>1</td><td>5750</td><td>&quot;CRAFTER&quot;</td><td>&quot;2&quot;</td><td>2024-05-19 00:00:00</td><td>&quot;01&quot;</td><td>false</td></tr><tr><td>&hellip;</td><td>&hellip;</td><td>&hellip;</td><td>&hellip;</td><td>&hellip;</td><td>&hellip;</td><td>&hellip;</td><td>&hellip;</td><td>&hellip;</td></tr><tr><td>2021-10-21 00:00:00</td><td>2021-10-21 00:00:00</td><td>2</td><td>3900</td><td>&quot;GLE 350 de 4MA…</td><td>&quot;2,5&quot;</td><td>2025-10-21 00:00:00</td><td>&quot;03&quot;</td><td>false</td></tr><tr><td>2023-09-01 00:00:00</td><td>2023-09-01 00:00:00</td><td>0</td><td>320</td><td>&quot;Adora 573 PT&quot;</td><td>null</td><td>null</td><td>&quot;01&quot;</td><td>null</td></tr><tr><td>2020-12-29 00:00:00</td><td>2020-12-29 00:00:00</td><td>1</td><td>4000</td><td>&quot;MG ZS EV&quot;</td><td>&quot;5&quot;</td><td>2024-12-29 00:00:00</td><td>&quot;02&quot;</td><td>true</td></tr><tr><td>2022-12-07 00:00:00</td><td>2022-12-07 00:00:00</td><td>2</td><td>4360</td><td>&quot;Model Y&quot;</td><td>&quot;5,5&quot;</td><td>2026-12-07 00:00:00</td><td>&quot;03&quot;</td><td>true</td></tr><tr><td>2021-08-19 00:00:00</td><td>2021-08-19 00:00:00</td><td>1</td><td>3900</td><td>&quot;Sprinter&quot;</td><td>&quot;2&quot;</td><td>2024-08-19 00:00:00</td><td>&quot;09&quot;</td><td>false</td></tr></tbody></table></div>"
      ],
      "text/plain": [
       "shape: (554_219, 9)\n",
       "┌─────────────────────┬─────────────────────┬───────────────────┬────────────┬───┬────────────────┬─────────────────────┬────────────┬───────┐\n",
       "│ tekn_reg_f_g_n      ┆ tekn_reg_eier_dato  ┆ tekn_aksler_drift ┆ tekn_merke ┆ … ┆ tekn_drivstoff ┆ tekn_neste_pkk      ┆ tekn_farge ┆ elbil │\n",
       "│ ---                 ┆ ---                 ┆ ---               ┆ ---        ┆   ┆ ---            ┆ ---                 ┆ ---        ┆ ---   │\n",
       "│ datetime[μs]        ┆ datetime[μs]        ┆ i64               ┆ i64        ┆   ┆ str            ┆ datetime[μs]        ┆ str        ┆ bool  │\n",
       "╞═════════════════════╪═════════════════════╪═══════════════════╪════════════╪═══╪════════════════╪═════════════════════╪════════════╪═══════╡\n",
       "│ 2021-10-13 00:00:00 ┆ 2021-10-13 00:00:00 ┆ 2                 ┆ 3900       ┆ … ┆ 2              ┆ 2025-10-13 00:00:00 ┆ 05         ┆ false │\n",
       "│ 2020-01-29 00:00:00 ┆ 2020-01-29 00:00:00 ┆ 2                 ┆ 5750       ┆ … ┆ 2              ┆ 2026-01-29 00:00:00 ┆ 06         ┆ false │\n",
       "│ 2023-11-29 00:00:00 ┆ 2023-11-29 00:00:00 ┆ 1                 ┆ 2600       ┆ … ┆ 5              ┆ 2027-11-29 00:00:00 ┆ 06         ┆ true  │\n",
       "│ 2020-01-27 00:00:00 ┆ 2020-01-27 00:00:00 ┆ 2                 ┆ 5750       ┆ … ┆ 2              ┆ 2024-01-27 00:00:00 ┆ 01         ┆ false │\n",
       "│ 2020-05-19 00:00:00 ┆ 2020-05-19 00:00:00 ┆ 1                 ┆ 5750       ┆ … ┆ 2              ┆ 2024-05-19 00:00:00 ┆ 01         ┆ false │\n",
       "│ …                   ┆ …                   ┆ …                 ┆ …          ┆ … ┆ …              ┆ …                   ┆ …          ┆ …     │\n",
       "│ 2021-10-21 00:00:00 ┆ 2021-10-21 00:00:00 ┆ 2                 ┆ 3900       ┆ … ┆ 2,5            ┆ 2025-10-21 00:00:00 ┆ 03         ┆ false │\n",
       "│ 2023-09-01 00:00:00 ┆ 2023-09-01 00:00:00 ┆ 0                 ┆ 320        ┆ … ┆ null           ┆ null                ┆ 01         ┆ null  │\n",
       "│ 2020-12-29 00:00:00 ┆ 2020-12-29 00:00:00 ┆ 1                 ┆ 4000       ┆ … ┆ 5              ┆ 2024-12-29 00:00:00 ┆ 02         ┆ true  │\n",
       "│ 2022-12-07 00:00:00 ┆ 2022-12-07 00:00:00 ┆ 2                 ┆ 4360       ┆ … ┆ 5,5            ┆ 2026-12-07 00:00:00 ┆ 03         ┆ true  │\n",
       "│ 2021-08-19 00:00:00 ┆ 2021-08-19 00:00:00 ┆ 1                 ┆ 3900       ┆ … ┆ 2              ┆ 2024-08-19 00:00:00 ┆ 09         ┆ false │\n",
       "└─────────────────────┴─────────────────────┴───────────────────┴────────────┴───┴────────────────┴─────────────────────┴────────────┴───────┘"
      ]
     },
     "execution_count": 6,
     "metadata": {},
     "output_type": "execute_result"
    }
   ],
   "source": [
    "df"
   ]
  },
  {
   "cell_type": "code",
   "execution_count": 7,
   "metadata": {},
   "outputs": [
    {
     "ename": "NameError",
     "evalue": "name 'antall_elbiler' is not defined",
     "output_type": "error",
     "traceback": [
      "\u001b[1;31m---------------------------------------------------------------------------\u001b[0m",
      "\u001b[1;31mNameError\u001b[0m                                 Traceback (most recent call last)",
      "Cell \u001b[1;32mIn[7], line 1\u001b[0m\n\u001b[1;32m----> 1\u001b[0m \u001b[43mantall_elbiler\u001b[49m\n",
      "\u001b[1;31mNameError\u001b[0m: name 'antall_elbiler' is not defined"
     ]
    }
   ],
   "source": [
    "antall_elbiler"
   ]
  },
  {
   "cell_type": "code",
   "execution_count": null,
   "metadata": {},
   "outputs": [],
   "source": [
    "prosentandel_elbiler = ( antall_elbiler / df.shape[0] ) * 100\n",
    "\n",
    "prosentandel_elbiler"
   ]
  },
  {
   "cell_type": "code",
   "execution_count": null,
   "metadata": {},
   "outputs": [],
   "source": [
    "df.columns"
   ]
  },
  {
   "cell_type": "code",
   "execution_count": null,
   "metadata": {},
   "outputs": [],
   "source": [
    "df = df_filter.select(\"tekn_modell\")\n"
   ]
  },
  {
   "cell_type": "code",
   "execution_count": null,
   "metadata": {},
   "outputs": [],
   "source": [
    "modeller = df_filter.groupby(\"tekn_modell\").agg(pl.col(\"tekn_modell\").count().alias(\"antall_modeller\"))\n",
    "\n",
    "#Skriv ut bilmodeller og antall gjentakelser\n",
    "for idx, row in enumerate(modeller.iter_rows()):\n",
    "  print(f\"{row[0]}: {row[1]}\")  # Tilgang via numeriske indekser"
   ]
  },
  {
   "cell_type": "code",
   "execution_count": null,
   "metadata": {},
   "outputs": [],
   "source": [
    "max_antall = max(row[1] for row in modeller.iter_rows())\n",
    "max_modell = next(modell for modell, antall in modeller.iter_rows() if antall == max_antall)\n",
    "\n",
    "#Skriv ut modellnavn og største antall\n",
    "print(f\"Største antall: {max_antall} for {max_modell}\")"
   ]
  },
  {
   "cell_type": "code",
   "execution_count": null,
   "metadata": {},
   "outputs": [],
   "source": []
  }
 ],
 "metadata": {
  "kernelspec": {
   "display_name": "Python 3 (ipykernel)",
   "language": "python",
   "name": "python3"
  },
  "language_info": {
   "codemirror_mode": {
    "name": "ipython",
    "version": 3
   },
   "file_extension": ".py",
   "mimetype": "text/x-python",
   "name": "python",
   "nbconvert_exporter": "python",
   "pygments_lexer": "ipython3",
   "version": "3.10.13"
  }
 },
 "nbformat": 4,
 "nbformat_minor": 4
}
