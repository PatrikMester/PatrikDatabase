{
 "cells": [
  {
   "cell_type": "code",
   "execution_count": 1,
   "metadata": {},
   "outputs": [],
   "source": [
    "import polars as pl"
   ]
  },
  {
   "cell_type": "code",
   "execution_count": 2,
   "metadata": {},
   "outputs": [],
   "source": [
    "import redis"
   ]
  },
  {
   "cell_type": "code",
   "execution_count": 3,
   "metadata": {},
   "outputs": [],
   "source": [
    "import time"
   ]
  },
  {
   "cell_type": "code",
   "execution_count": 4,
   "metadata": {},
   "outputs": [],
   "source": [
    "import pandas as pd"
   ]
  },
  {
   "cell_type": "code",
   "execution_count": 5,
   "metadata": {},
   "outputs": [],
   "source": [
    "df = pl.scan_parquet(\"kjoretoyinfo_fra_2020.parquet\")"
   ]
  },
  {
   "cell_type": "code",
   "execution_count": 6,
   "metadata": {},
   "outputs": [],
   "source": [
    "df = pl.read_parquet(\"kjoretoyinfo_fra_2020.parquet\")"
   ]
  },
  {
   "cell_type": "code",
   "execution_count": 7,
   "metadata": {},
   "outputs": [],
   "source": [
    "df = df.with_columns([\n",
    "    pl.col(\"tekn_reg_f_g_n\").cast(pl.Utf8).str.strptime(pl.Datetime, \"%Y%m%d\").alias(\"tekn_reg_f_g_n\")\n",
    "])"
   ]
  },
  {
   "cell_type": "code",
   "execution_count": 8,
   "metadata": {},
   "outputs": [],
   "source": [
    "df = df.with_columns([\n",
    "    pl.col(\"tekn_neste_pkk\").cast(pl.Utf8).str.strptime(pl.Datetime, \"%Y%m%d\", strict=False).alias(\"tekn_neste_pkk\")\n",
    "])"
   ]
  },
  {
   "cell_type": "code",
   "execution_count": 9,
   "metadata": {},
   "outputs": [],
   "source": [
    "df = df.with_columns([\n",
    "    pl.col(\"tekn_reg_eier_dato\").cast(pl.Utf8).str.strptime(pl.Datetime, \"%Y%m%d\").alias(\"tekn_reg_eier_dato\")\n",
    "])"
   ]
  },
  {
   "cell_type": "code",
   "execution_count": 10,
   "metadata": {},
   "outputs": [],
   "source": [
    "df = df.with_columns([\n",
    "    ((pl.col(\"tekn_drivstoff\") == \"5\") | (pl.col(\"tekn_drivstoff\") == \"5,5\")).alias(\"elbil\")\n",
    "])"
   ]
  },
  {
   "cell_type": "code",
   "execution_count": 11,
   "metadata": {},
   "outputs": [],
   "source": [
    "# Anta at df er din Polars DataFrame\n",
    "selected_columns = [\n",
    "    \"tekn_reg_f_g_n\", \"tekn_reg_eier_dato\", \"tekn_aksler_drift\", \"tekn_merke\", \n",
    "    \"tekn_modell\", \"tekn_drivstoff\", \"tekn_neste_pkk\", \"tekn_farge\", \"elbil\"\n",
    "]\n",
    "# Velg spesifikke kolonner\n",
    "df_selected = df.select(selected_columns)"
   ]
  },
  {
   "cell_type": "code",
   "execution_count": 12,
   "metadata": {},
   "outputs": [
    {
     "data": {
      "text/html": [
       "<div><style>\n",
       ".dataframe > thead > tr,\n",
       ".dataframe > tbody > tr {\n",
       "  text-align: right;\n",
       "  white-space: pre-wrap;\n",
       "}\n",
       "</style>\n",
       "<small>shape: (554_219, 9)</small><table border=\"1\" class=\"dataframe\"><thead><tr><th>tekn_reg_f_g_n</th><th>tekn_reg_eier_dato</th><th>tekn_aksler_drift</th><th>tekn_merke</th><th>tekn_modell</th><th>tekn_drivstoff</th><th>tekn_neste_pkk</th><th>tekn_farge</th><th>elbil</th></tr><tr><td>datetime[μs]</td><td>datetime[μs]</td><td>i64</td><td>i64</td><td>str</td><td>str</td><td>datetime[μs]</td><td>str</td><td>bool</td></tr></thead><tbody><tr><td>2021-10-13 00:00:00</td><td>2021-10-13 00:00:00</td><td>2</td><td>3900</td><td>&quot;VITO&quot;</td><td>&quot;2&quot;</td><td>2025-10-13 00:00:00</td><td>&quot;05&quot;</td><td>false</td></tr><tr><td>2020-01-29 00:00:00</td><td>2020-01-29 00:00:00</td><td>2</td><td>5750</td><td>&quot;CADDY&quot;</td><td>&quot;2&quot;</td><td>2026-01-29 00:00:00</td><td>&quot;06&quot;</td><td>false</td></tr><tr><td>2023-11-29 00:00:00</td><td>2023-11-29 00:00:00</td><td>1</td><td>2600</td><td>&quot;Mustang Mach-E…</td><td>&quot;5&quot;</td><td>2027-11-29 00:00:00</td><td>&quot;06&quot;</td><td>true</td></tr><tr><td>2020-01-27 00:00:00</td><td>2020-01-27 00:00:00</td><td>2</td><td>5750</td><td>&quot;CADDY&quot;</td><td>&quot;2&quot;</td><td>2024-01-27 00:00:00</td><td>&quot;01&quot;</td><td>false</td></tr><tr><td>2020-05-19 00:00:00</td><td>2020-05-19 00:00:00</td><td>1</td><td>5750</td><td>&quot;CRAFTER&quot;</td><td>&quot;2&quot;</td><td>2024-05-19 00:00:00</td><td>&quot;01&quot;</td><td>false</td></tr><tr><td>&hellip;</td><td>&hellip;</td><td>&hellip;</td><td>&hellip;</td><td>&hellip;</td><td>&hellip;</td><td>&hellip;</td><td>&hellip;</td><td>&hellip;</td></tr><tr><td>2021-10-21 00:00:00</td><td>2021-10-21 00:00:00</td><td>2</td><td>3900</td><td>&quot;GLE 350 de 4MA…</td><td>&quot;2,5&quot;</td><td>2025-10-21 00:00:00</td><td>&quot;03&quot;</td><td>false</td></tr><tr><td>2023-09-01 00:00:00</td><td>2023-09-01 00:00:00</td><td>0</td><td>320</td><td>&quot;Adora 573 PT&quot;</td><td>null</td><td>null</td><td>&quot;01&quot;</td><td>null</td></tr><tr><td>2020-12-29 00:00:00</td><td>2020-12-29 00:00:00</td><td>1</td><td>4000</td><td>&quot;MG ZS EV&quot;</td><td>&quot;5&quot;</td><td>2024-12-29 00:00:00</td><td>&quot;02&quot;</td><td>true</td></tr><tr><td>2022-12-07 00:00:00</td><td>2022-12-07 00:00:00</td><td>2</td><td>4360</td><td>&quot;Model Y&quot;</td><td>&quot;5,5&quot;</td><td>2026-12-07 00:00:00</td><td>&quot;03&quot;</td><td>true</td></tr><tr><td>2021-08-19 00:00:00</td><td>2021-08-19 00:00:00</td><td>1</td><td>3900</td><td>&quot;Sprinter&quot;</td><td>&quot;2&quot;</td><td>2024-08-19 00:00:00</td><td>&quot;09&quot;</td><td>false</td></tr></tbody></table></div>"
      ],
      "text/plain": [
       "shape: (554_219, 9)\n",
       "┌────────────┬────────────┬────────────┬───────────┬───┬───────────┬───────────┬───────────┬───────┐\n",
       "│ tekn_reg_f ┆ tekn_reg_e ┆ tekn_aksle ┆ tekn_merk ┆ … ┆ tekn_driv ┆ tekn_nest ┆ tekn_farg ┆ elbil │\n",
       "│ _g_n       ┆ ier_dato   ┆ r_drift    ┆ e         ┆   ┆ stoff     ┆ e_pkk     ┆ e         ┆ ---   │\n",
       "│ ---        ┆ ---        ┆ ---        ┆ ---       ┆   ┆ ---       ┆ ---       ┆ ---       ┆ bool  │\n",
       "│ datetime[μ ┆ datetime[μ ┆ i64        ┆ i64       ┆   ┆ str       ┆ datetime[ ┆ str       ┆       │\n",
       "│ s]         ┆ s]         ┆            ┆           ┆   ┆           ┆ μs]       ┆           ┆       │\n",
       "╞════════════╪════════════╪════════════╪═══════════╪═══╪═══════════╪═══════════╪═══════════╪═══════╡\n",
       "│ 2021-10-13 ┆ 2021-10-13 ┆ 2          ┆ 3900      ┆ … ┆ 2         ┆ 2025-10-1 ┆ 05        ┆ false │\n",
       "│ 00:00:00   ┆ 00:00:00   ┆            ┆           ┆   ┆           ┆ 3         ┆           ┆       │\n",
       "│            ┆            ┆            ┆           ┆   ┆           ┆ 00:00:00  ┆           ┆       │\n",
       "│ 2020-01-29 ┆ 2020-01-29 ┆ 2          ┆ 5750      ┆ … ┆ 2         ┆ 2026-01-2 ┆ 06        ┆ false │\n",
       "│ 00:00:00   ┆ 00:00:00   ┆            ┆           ┆   ┆           ┆ 9         ┆           ┆       │\n",
       "│            ┆            ┆            ┆           ┆   ┆           ┆ 00:00:00  ┆           ┆       │\n",
       "│ 2023-11-29 ┆ 2023-11-29 ┆ 1          ┆ 2600      ┆ … ┆ 5         ┆ 2027-11-2 ┆ 06        ┆ true  │\n",
       "│ 00:00:00   ┆ 00:00:00   ┆            ┆           ┆   ┆           ┆ 9         ┆           ┆       │\n",
       "│            ┆            ┆            ┆           ┆   ┆           ┆ 00:00:00  ┆           ┆       │\n",
       "│ 2020-01-27 ┆ 2020-01-27 ┆ 2          ┆ 5750      ┆ … ┆ 2         ┆ 2024-01-2 ┆ 01        ┆ false │\n",
       "│ 00:00:00   ┆ 00:00:00   ┆            ┆           ┆   ┆           ┆ 7         ┆           ┆       │\n",
       "│            ┆            ┆            ┆           ┆   ┆           ┆ 00:00:00  ┆           ┆       │\n",
       "│ 2020-05-19 ┆ 2020-05-19 ┆ 1          ┆ 5750      ┆ … ┆ 2         ┆ 2024-05-1 ┆ 01        ┆ false │\n",
       "│ 00:00:00   ┆ 00:00:00   ┆            ┆           ┆   ┆           ┆ 9         ┆           ┆       │\n",
       "│            ┆            ┆            ┆           ┆   ┆           ┆ 00:00:00  ┆           ┆       │\n",
       "│ …          ┆ …          ┆ …          ┆ …         ┆ … ┆ …         ┆ …         ┆ …         ┆ …     │\n",
       "│ 2021-10-21 ┆ 2021-10-21 ┆ 2          ┆ 3900      ┆ … ┆ 2,5       ┆ 2025-10-2 ┆ 03        ┆ false │\n",
       "│ 00:00:00   ┆ 00:00:00   ┆            ┆           ┆   ┆           ┆ 1         ┆           ┆       │\n",
       "│            ┆            ┆            ┆           ┆   ┆           ┆ 00:00:00  ┆           ┆       │\n",
       "│ 2023-09-01 ┆ 2023-09-01 ┆ 0          ┆ 320       ┆ … ┆ null      ┆ null      ┆ 01        ┆ null  │\n",
       "│ 00:00:00   ┆ 00:00:00   ┆            ┆           ┆   ┆           ┆           ┆           ┆       │\n",
       "│ 2020-12-29 ┆ 2020-12-29 ┆ 1          ┆ 4000      ┆ … ┆ 5         ┆ 2024-12-2 ┆ 02        ┆ true  │\n",
       "│ 00:00:00   ┆ 00:00:00   ┆            ┆           ┆   ┆           ┆ 9         ┆           ┆       │\n",
       "│            ┆            ┆            ┆           ┆   ┆           ┆ 00:00:00  ┆           ┆       │\n",
       "│ 2022-12-07 ┆ 2022-12-07 ┆ 2          ┆ 4360      ┆ … ┆ 5,5       ┆ 2026-12-0 ┆ 03        ┆ true  │\n",
       "│ 00:00:00   ┆ 00:00:00   ┆            ┆           ┆   ┆           ┆ 7         ┆           ┆       │\n",
       "│            ┆            ┆            ┆           ┆   ┆           ┆ 00:00:00  ┆           ┆       │\n",
       "│ 2021-08-19 ┆ 2021-08-19 ┆ 1          ┆ 3900      ┆ … ┆ 2         ┆ 2024-08-1 ┆ 09        ┆ false │\n",
       "│ 00:00:00   ┆ 00:00:00   ┆            ┆           ┆   ┆           ┆ 9         ┆           ┆       │\n",
       "│            ┆            ┆            ┆           ┆   ┆           ┆ 00:00:00  ┆           ┆       │\n",
       "└────────────┴────────────┴────────────┴───────────┴───┴───────────┴───────────┴───────────┴───────┘"
      ]
     },
     "execution_count": 12,
     "metadata": {},
     "output_type": "execute_result"
    }
   ],
   "source": [
    "df_selected"
   ]
  },
  {
   "cell_type": "code",
   "execution_count": 13,
   "metadata": {},
   "outputs": [],
   "source": [
    "parquet_file_path = \"kjoretoyinfo_preppet.parquet\"\n",
    "\n",
    "\n",
    "df_selected.write_parquet(parquet_file_path)"
   ]
  }
 ],
 "metadata": {
  "kernelspec": {
   "display_name": "Python 3 (ipykernel)",
   "language": "python",
   "name": "python3"
  },
  "language_info": {
   "codemirror_mode": {
    "name": "ipython",
    "version": 3
   },
   "file_extension": ".py",
   "mimetype": "text/x-python",
   "name": "python",
   "nbconvert_exporter": "python",
   "pygments_lexer": "ipython3",
   "version": "3.10.13"
  }
 },
 "nbformat": 4,
 "nbformat_minor": 4
}
